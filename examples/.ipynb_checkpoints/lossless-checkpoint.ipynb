{
 "cells": [
  {
   "cell_type": "code",
   "execution_count": null,
   "id": "2cd24cb7",
   "metadata": {},
   "outputs": [],
   "source": [
    "import torch\n",
    "import sys\n",
    "import os\n",
    "import rasterio\n",
    "\n",
    "parent_dir = os.path.abspath(os.path.join(os.getcwd(), '..'))\n",
    "sys.path.append(parent_dir)\n",
    "\n",
    "from src.ccsds import create_lossless_compressor, decompress\n",
    "from tests.utils import generate_simple_test_image\n",
    "\n",
    "# Create test image [Z, Y, X]\n",
    "#image = torch.randn(10, 64, 64) * 100  # 10 bands, 64x64 pixels\n",
    "batch_size = 1\n",
    "num_bands = 5\n",
    "dynamic_range = 16\n",
    "#images = [generate_simple_test_image(num_bands=num_bands, dynamic_range=dynamic_range) for _ in range(batch_size)]\n",
    "#batch = torch.stack(images)\n",
    "image = generate_simple_test_image(num_bands=num_bands, dynamic_range=dynamic_range)\n",
    "print(f'Image shape: {image.shape}\\n')\n",
    "print(f'Image Bit: {image.dtype}\\n')"
   ]
  },
  {
   "cell_type": "code",
   "execution_count": null,
   "id": "1ebd183a",
   "metadata": {},
   "outputs": [],
   "source": [
    "import rasterio\n",
    "tif_path = '/home/joshua/Documents/phd_university/code/HSI code examples/aviris_hyperspectral_data/19920612_AVIRIS_IndianPine_Site3.tif'\n",
    "\n",
    "# Open the TIFF file\n",
    "with rasterio.open(tif_path) as src:\n",
    "    # Read the entire file into a numpy array\n",
    "    hsi_data = src.read()\n",
    "\n",
    "hsi = torch.from_numpy(hsi_data).float()\n",
    "hsi.shape"
   ]
  },
  {
   "cell_type": "code",
   "execution_count": null,
   "id": "402d2741",
   "metadata": {},
   "outputs": [],
   "source": [
    "# Create basic lossless compressor\n",
    "compressor = create_lossless_compressor(num_bands=num_bands, dynamic_range=dynamic_range)"
   ]
  },
  {
   "cell_type": "code",
   "execution_count": null,
   "id": "7f11d297",
   "metadata": {},
   "outputs": [],
   "source": [
    "# Compress to get complete compressed representation\n",
    "compressed_data = compressor(image)\n",
    "print(f\"Compression ratio: {compressed_data['compression_statistics']['compression_ratio']:.2f}:1\")\n",
    "print(f\"Compressed size: {len(compressed_data['compressed_bitstream'])} bytes\")"
   ]
  },
  {
   "cell_type": "code",
   "execution_count": null,
   "id": "541220f3",
   "metadata": {},
   "outputs": [],
   "source": [
    "# Decompress to reconstruct image\n",
    "reconstructed = decompress(compressed_data)\n",
    "print(f\"Lossless: max error = {torch.max(torch.abs(image - reconstructed))}\")"
   ]
  },
  {
   "cell_type": "code",
   "execution_count": null,
   "id": "2569b582",
   "metadata": {},
   "outputs": [],
   "source": [
    "from src.optimized import create_optimized_block_adaptive_lossless_compressor\n",
    "\n",
    "optimized_compressor = create_optimized_block_adaptive_lossless_compressor(\n",
    "    num_bands=hsi.shape[0],\n",
    "    optimization_mode='causal',  # Maintains exact causal order\n",
    "    dynamic_range=dynamic_range,\n",
    ")\n",
    "\n",
    "optimized_compressor.device"
   ]
  },
  {
   "cell_type": "code",
   "execution_count": null,
   "id": "d21274df",
   "metadata": {},
   "outputs": [],
   "source": [
    "# For strict CCSDS-123.0-B-2 compliance\n",
    "from src.optimized import create_optimized_lossless_compressor\n",
    "\n",
    "optimized_compressor = create_optimized_lossless_compressor(\n",
    "    num_bands=hsi.shape[0],\n",
    "    optimization_mode='causal',  # Maintains exact causal order\n",
    "    dynamic_range=dynamic_range,\n",
    ")\n",
    "\n",
    "optimized_compressor.device"
   ]
  },
  {
   "cell_type": "code",
   "execution_count": null,
   "id": "0d56e42a",
   "metadata": {},
   "outputs": [],
   "source": [
    "results = optimized_compressor.compress(hsi)"
   ]
  },
  {
   "cell_type": "code",
   "execution_count": null,
   "id": "056b0ea9",
   "metadata": {},
   "outputs": [],
   "source": [
    "results.keys()"
   ]
  },
  {
   "cell_type": "code",
   "execution_count": null,
   "id": "19377908",
   "metadata": {},
   "outputs": [],
   "source": [
    "print(results['compressed_size'])\n",
    "print(results['compression_ratio'])\n",
    "print(results['mapped_indices'].shape)\n",
    "for key, stat in results['entropy_stats'].items():\n",
    "    print(f'{key}: {stat}')"
   ]
  },
  {
   "cell_type": "code",
   "execution_count": null,
   "id": "c1f5e7ba",
   "metadata": {},
   "outputs": [],
   "source": [
    "print(results['reconstructed_samples'].shape)"
   ]
  },
  {
   "cell_type": "code",
   "execution_count": null,
   "id": "560e8c48",
   "metadata": {},
   "outputs": [],
   "source": [
    "from src.ccsds import calculate_psnr"
   ]
  },
  {
   "cell_type": "code",
   "execution_count": null,
   "id": "e50a6dfb",
   "metadata": {},
   "outputs": [],
   "source": [
    "print(calculate_psnr(hsi.to('cpu'), results['reconstructed_samples'].to('cpu'), 16))"
   ]
  },
  {
   "cell_type": "code",
   "execution_count": null,
   "id": "9b614f33",
   "metadata": {},
   "outputs": [],
   "source": [
    "compressed_data = optimized_compressor.compress(hsi)"
   ]
  },
  {
   "cell_type": "code",
   "execution_count": null,
   "id": "28259237",
   "metadata": {},
   "outputs": [],
   "source": [
    "compressed_data"
   ]
  },
  {
   "cell_type": "code",
   "execution_count": null,
   "id": "b5f5c21c",
   "metadata": {},
   "outputs": [],
   "source": []
  }
 ],
 "metadata": {
  "kernelspec": {
   "display_name": "Python 3 (ipykernel)",
   "language": "python",
   "name": "python3"
  },
  "language_info": {
   "codemirror_mode": {
    "name": "ipython",
    "version": 3
   },
   "file_extension": ".py",
   "mimetype": "text/x-python",
   "name": "python",
   "nbconvert_exporter": "python",
   "pygments_lexer": "ipython3",
   "version": "3.10.12"
  }
 },
 "nbformat": 4,
 "nbformat_minor": 5
}
