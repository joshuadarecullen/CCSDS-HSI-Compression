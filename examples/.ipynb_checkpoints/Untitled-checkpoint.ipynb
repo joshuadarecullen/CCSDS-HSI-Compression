{
 "cells": [
  {
   "cell_type": "code",
   "execution_count": 21,
   "id": "20a36d90",
   "metadata": {},
   "outputs": [
    {
     "name": "stdout",
     "output_type": "stream",
     "text": [
      "Image shape: torch.Size([5, 16, 16])\n",
      "\n",
      "Image Bit: torch.float32\n",
      "\n"
     ]
    }
   ],
   "source": [
    "import torch\n",
    "import sys\n",
    "import os\n",
    "import rasterio\n",
    "\n",
    "parent_dir = os.path.abspath(os.path.join(os.getcwd(), '..'))\n",
    "sys.path.append(parent_dir)\n",
    "\n",
    "from src.ccsds import create_lossless_compressor, decompress\n",
    "from tests.utils import generate_simple_test_image\n",
    "\n",
    "# Create test image [Z, Y, X]\n",
    "#image = torch.randn(10, 64, 64) * 100  # 10 bands, 64x64 pixels\n",
    "batch_size = 1\n",
    "num_bands = 5\n",
    "dynamic_range = 16\n",
    "#images = [generate_simple_test_image(num_bands=num_bands, dynamic_range=dynamic_range) for _ in range(batch_size)]\n",
    "#batch = torch.stack(images)\n",
    "image = generate_simple_test_image(num_bands=num_bands, dynamic_range=dynamic_range)\n",
    "print(f'Image shape: {image.shape}\\n')\n",
    "print(f'Image Bit: {image.dtype}\\n')"
   ]
  },
  {
   "cell_type": "code",
   "execution_count": 49,
   "id": "917a666b",
   "metadata": {},
   "outputs": [
    {
     "data": {
      "text/plain": [
       "torch.Size([220, 145, 145])"
      ]
     },
     "execution_count": 49,
     "metadata": {},
     "output_type": "execute_result"
    }
   ],
   "source": [
    "import rasterio\n",
    "tif_path = '/home/joshua/Documents/phd_university/code/HSI code examples/aviris_hyperspectral_data/19920612_AVIRIS_IndianPine_Site3.tif'\n",
    "\n",
    "# Open the TIFF file\n",
    "with rasterio.open(tif_path) as src:\n",
    "    # Read the entire file into a numpy array\n",
    "    hsi_data = src.read()\n",
    "\n",
    "hsi = torch.from_numpy(hsi_data).float()\n",
    "hsi.shape"
   ]
  },
  {
   "cell_type": "code",
   "execution_count": null,
   "id": "a3c2ecec",
   "metadata": {},
   "outputs": [],
   "source": [
    "# Create lossless compressor\n",
    "compressor = create_lossless_compressor(num_bands=num_bands, dynamic_range=dynamic_range)"
   ]
  },
  {
   "cell_type": "code",
   "execution_count": null,
   "id": "09181b09",
   "metadata": {},
   "outputs": [],
   "source": [
    "# Compress to get complete compressed representation\n",
    "compressed_data = compressor(image)\n",
    "print(f\"Compression ratio: {compressed_data['compression_statistics']['compression_ratio']:.2f}:1\")\n",
    "print(f\"Compressed size: {len(compressed_data['compressed_bitstream'])} bytes\")"
   ]
  },
  {
   "cell_type": "code",
   "execution_count": null,
   "id": "b2f11e5d",
   "metadata": {},
   "outputs": [],
   "source": [
    "# Decompress to reconstruct image\n",
    "reconstructed = decompress(compressed_data)\n",
    "print(f\"Lossless: max error = {torch.max(torch.abs(image - reconstructed))}\")"
   ]
  },
  {
   "cell_type": "code",
   "execution_count": 31,
   "id": "f92bc21d",
   "metadata": {},
   "outputs": [
    {
     "data": {
      "text/plain": [
       "device(type='cuda')"
      ]
     },
     "execution_count": 31,
     "metadata": {},
     "output_type": "execute_result"
    }
   ],
   "source": [
    "# For strict CCSDS-123.0-B-2 compliance\n",
    "from src.optimized import create_optimized_lossless_compressor\n",
    "\n",
    "optimized_compressor = create_optimized_lossless_compressor(\n",
    "    num_bands=hsi.shape[0],\n",
    "    optimization_mode='causal',  # Maintains exact causal order\n",
    "    dynamic_range=dynamic_range,\n",
    ")\n",
    "\n",
    "optimized_compressor.device"
   ]
  },
  {
   "cell_type": "code",
   "execution_count": 32,
   "id": "dabf43fd",
   "metadata": {},
   "outputs": [],
   "source": [
    "results = optimized_compressor(image)"
   ]
  },
  {
   "cell_type": "code",
   "execution_count": 33,
   "id": "4fb58424",
   "metadata": {},
   "outputs": [
    {
     "data": {
      "text/plain": [
       "dict_keys(['predictions', 'residuals', 'quantized_residuals', 'mapped_indices', 'sample_representatives', 'reconstructed_samples', 'compressed_size', 'original_size', 'compression_ratio', 'compression_time', 'throughput_samples_per_sec', 'entropy_stats'])"
      ]
     },
     "execution_count": 33,
     "metadata": {},
     "output_type": "execute_result"
    }
   ],
   "source": [
    "results.keys()"
   ]
  },
  {
   "cell_type": "code",
   "execution_count": 39,
   "id": "251184d4",
   "metadata": {},
   "outputs": [
    {
     "name": "stdout",
     "output_type": "stream",
     "text": [
      "35880\n",
      "0.5707915273132664\n",
      "torch.Size([5, 16, 16])\n",
      "total_samples: 1280\n",
      "total_compressed_bits: 35880\n",
      "total_compressed_bytes: 4485\n",
      "bits_per_sample: 28.03125\n",
      "compression_ratio: 0.5707915273132664\n",
      "encoding_time: 0.0938253402709961\n",
      "throughput_samples_per_sec: 13642.369921632802\n",
      "band_stats: [{'band': 0, 'total_samples': 256, 'high_entropy_samples': 256, 'low_entropy_samples': 0, 'high_entropy_ratio': 1.0, 'compressed_bits': 7168, 'encoding_time': 0.06566977500915527, 'bits_per_sample': 28.0}, {'band': 1, 'total_samples': 256, 'high_entropy_samples': 256, 'low_entropy_samples': 0, 'high_entropy_ratio': 1.0, 'compressed_bits': 7168, 'encoding_time': 0.005193233489990234, 'bits_per_sample': 28.0}, {'band': 2, 'total_samples': 256, 'high_entropy_samples': 256, 'low_entropy_samples': 0, 'high_entropy_ratio': 1.0, 'compressed_bits': 7168, 'encoding_time': 0.005023479461669922, 'bits_per_sample': 28.0}, {'band': 3, 'total_samples': 256, 'high_entropy_samples': 256, 'low_entropy_samples': 0, 'high_entropy_ratio': 1.0, 'compressed_bits': 7168, 'encoding_time': 0.005136251449584961, 'bits_per_sample': 28.0}, {'band': 4, 'total_samples': 256, 'high_entropy_samples': 256, 'low_entropy_samples': 0, 'high_entropy_ratio': 1.0, 'compressed_bits': 7168, 'encoding_time': 0.004972934722900391, 'bits_per_sample': 28.0}]\n"
     ]
    }
   ],
   "source": [
    "print(results['compressed_size'])\n",
    "print(results['compression_ratio'])\n",
    "print(results['mapped_indices'].shape)\n",
    "for key, stat in results['entropy_stats'].items():\n",
    "    print(f'{key}: {stat}')"
   ]
  },
  {
   "cell_type": "code",
   "execution_count": null,
   "id": "a22ffc7b",
   "metadata": {},
   "outputs": [],
   "source": [
    "print(results['reconstructed_samples'].shape)"
   ]
  },
  {
   "cell_type": "code",
   "execution_count": null,
   "id": "1f652b9f",
   "metadata": {},
   "outputs": [],
   "source": [
    "from src.ccsds import calculate_psnr"
   ]
  },
  {
   "cell_type": "code",
   "execution_count": null,
   "id": "7b5297ae",
   "metadata": {},
   "outputs": [],
   "source": [
    "print(calculate_psnr(image.to('cpu'), results['reconstructed_samples'].to('cpu'), 16))"
   ]
  },
  {
   "cell_type": "code",
   "execution_count": null,
   "id": "74d2222b",
   "metadata": {},
   "outputs": [],
   "source": []
  }
 ],
 "metadata": {
  "kernelspec": {
   "display_name": "Python 3 (ipykernel)",
   "language": "python",
   "name": "python3"
  },
  "language_info": {
   "codemirror_mode": {
    "name": "ipython",
    "version": 3
   },
   "file_extension": ".py",
   "mimetype": "text/x-python",
   "name": "python",
   "nbconvert_exporter": "python",
   "pygments_lexer": "ipython3",
   "version": "3.10.12"
  }
 },
 "nbformat": 4,
 "nbformat_minor": 5
}
